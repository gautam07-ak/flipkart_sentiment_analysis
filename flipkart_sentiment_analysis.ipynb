# Flipkart Sentiment Analysis Notebook Placeholder

This notebook analyzes Flipkart product reviews using NLP and Random Forest.